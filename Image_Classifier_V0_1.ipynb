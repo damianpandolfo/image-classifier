{
  "nbformat": 4,
  "nbformat_minor": 0,
  "metadata": {
    "colab": {
      "provenance": [],
      "authorship_tag": "ABX9TyNBkZ1Dchx00pLf9MLhZUmH",
      "include_colab_link": true
    },
    "kernelspec": {
      "name": "python3",
      "display_name": "Python 3"
    },
    "language_info": {
      "name": "python"
    }
  },
  "cells": [
    {
      "cell_type": "markdown",
      "metadata": {
        "id": "view-in-github",
        "colab_type": "text"
      },
      "source": [
        "<a href=\"https://colab.research.google.com/github/damianpandolfo/image-classifier/blob/main/Image_Classifier_V0_1.ipynb\" target=\"_parent\"><img src=\"https://colab.research.google.com/assets/colab-badge.svg\" alt=\"Open In Colab\"/></a>"
      ]
    },
    {
      "cell_type": "markdown",
      "source": [
        "# Image Classifier V0.1"
      ],
      "metadata": {
        "id": "U0zh2lyLdPK4"
      }
    },
    {
      "cell_type": "code",
      "source": [
        "import tensorflow as tf\n",
        "from tensorflow.keras import datasets, layers, models\n",
        "import matplotlib.pyplot as plt"
      ],
      "metadata": {
        "id": "6HKeoM4Oc-tk"
      },
      "execution_count": 1,
      "outputs": []
    },
    {
      "cell_type": "code",
      "source": [
        "# Load and preprocess the CIFAR-10 data\n",
        "(train_images, train_labels), (test_images, test_labels) = datasets.cifar10.load_data()\n",
        "train_images, test_images = train_images / 255.0, test_images / 255.0"
      ],
      "metadata": {
        "colab": {
          "base_uri": "https://localhost:8080/"
        },
        "id": "SjyKjibGdBcf",
        "outputId": "8e6fa46c-cf98-4a18-de73-09f0fe2ba125"
      },
      "execution_count": 2,
      "outputs": [
        {
          "output_type": "stream",
          "name": "stdout",
          "text": [
            "Downloading data from https://www.cs.toronto.edu/~kriz/cifar-10-python.tar.gz\n",
            "170498071/170498071 [==============================] - 3s 0us/step\n"
          ]
        }
      ]
    },
    {
      "cell_type": "code",
      "source": [
        "# Define the model\n",
        "model = models.Sequential()\n",
        "model.add(layers.Conv2D(32, (3, 3), activation='relu', input_shape=(32, 32, 3)))\n",
        "model.add(layers.MaxPooling2D((2, 2)))\n",
        "model.add(layers.Conv2D(64, (3, 3), activation='relu'))\n",
        "model.add(layers.MaxPooling2D((2, 2)))\n",
        "model.add(layers.Conv2D(64, (3, 3), activation='relu'))\n",
        "model.add(layers.Flatten())\n",
        "model.add(layers.Dense(64, activation='relu'))\n",
        "model.add(layers.Dense(10))"
      ],
      "metadata": {
        "id": "esFq1i56dC1D"
      },
      "execution_count": 3,
      "outputs": []
    },
    {
      "cell_type": "code",
      "source": [
        "# Compile the model\n",
        "model.compile(optimizer='adam',\n",
        "              loss=tf.keras.losses.SparseCategoricalCrossentropy(from_logits=True),\n",
        "              metrics=['accuracy'])"
      ],
      "metadata": {
        "id": "BVi1MP7ZdEB2"
      },
      "execution_count": 4,
      "outputs": []
    },
    {
      "cell_type": "code",
      "source": [
        "# Train the model\n",
        "history = model.fit(train_images, train_labels, epochs=10,\n",
        "                    validation_data=(test_images, test_labels))"
      ],
      "metadata": {
        "colab": {
          "base_uri": "https://localhost:8080/"
        },
        "id": "YfGCQkcYdFk5",
        "outputId": "3e197149-7dc7-416b-d44b-418bd3ec8ed6"
      },
      "execution_count": 5,
      "outputs": [
        {
          "output_type": "stream",
          "name": "stdout",
          "text": [
            "Epoch 1/10\n",
            "1563/1563 [==============================] - 70s 44ms/step - loss: 1.5327 - accuracy: 0.4409 - val_loss: 1.2446 - val_accuracy: 0.5517\n",
            "Epoch 2/10\n",
            "1563/1563 [==============================] - 69s 44ms/step - loss: 1.1986 - accuracy: 0.5741 - val_loss: 1.1332 - val_accuracy: 0.5986\n",
            "Epoch 3/10\n",
            "1563/1563 [==============================] - 69s 44ms/step - loss: 1.0400 - accuracy: 0.6327 - val_loss: 1.0264 - val_accuracy: 0.6400\n",
            "Epoch 4/10\n",
            "1563/1563 [==============================] - 68s 44ms/step - loss: 0.9359 - accuracy: 0.6721 - val_loss: 0.9628 - val_accuracy: 0.6579\n",
            "Epoch 5/10\n",
            "1563/1563 [==============================] - 66s 42ms/step - loss: 0.8592 - accuracy: 0.6984 - val_loss: 0.9159 - val_accuracy: 0.6790\n",
            "Epoch 6/10\n",
            "1563/1563 [==============================] - 74s 48ms/step - loss: 0.7981 - accuracy: 0.7190 - val_loss: 0.9362 - val_accuracy: 0.6772\n",
            "Epoch 7/10\n",
            "1563/1563 [==============================] - 68s 44ms/step - loss: 0.7546 - accuracy: 0.7365 - val_loss: 0.8690 - val_accuracy: 0.7012\n",
            "Epoch 8/10\n",
            "1563/1563 [==============================] - 69s 44ms/step - loss: 0.7150 - accuracy: 0.7497 - val_loss: 0.8746 - val_accuracy: 0.7005\n",
            "Epoch 9/10\n",
            "1563/1563 [==============================] - 70s 45ms/step - loss: 0.6753 - accuracy: 0.7618 - val_loss: 0.8615 - val_accuracy: 0.7058\n",
            "Epoch 10/10\n",
            "1563/1563 [==============================] - 67s 43ms/step - loss: 0.6417 - accuracy: 0.7740 - val_loss: 0.8977 - val_accuracy: 0.7029\n"
          ]
        }
      ]
    },
    {
      "cell_type": "code",
      "source": [
        "# Evaluate the model\n",
        "test_loss, test_acc = model.evaluate(test_images, test_labels)\n",
        "print(f'Test accuracy: {test_acc}')"
      ],
      "metadata": {
        "colab": {
          "base_uri": "https://localhost:8080/"
        },
        "id": "ATxwNhFAdHHS",
        "outputId": "030cc79a-e50f-40a9-e85c-2e828bbba7fa"
      },
      "execution_count": 6,
      "outputs": [
        {
          "output_type": "stream",
          "name": "stdout",
          "text": [
            "313/313 [==============================] - 6s 18ms/step - loss: 0.8977 - accuracy: 0.7029\n",
            "Test accuracy: 0.7028999924659729\n"
          ]
        }
      ]
    },
    {
      "cell_type": "code",
      "source": [
        "# Plot the training history\n",
        "plt.plot(history.history['accuracy'], label='accuracy')\n",
        "plt.plot(history.history['val_accuracy'], label = 'val_accuracy')\n",
        "plt.xlabel('Epoch')\n",
        "plt.ylabel('Accuracy')\n",
        "plt.ylim([0, 1])\n",
        "plt.legend(loc='lower right')\n",
        "plt.show()"
      ],
      "metadata": {
        "colab": {
          "base_uri": "https://localhost:8080/",
          "height": 455
        },
        "id": "WqkcmOJ0dIjO",
        "outputId": "5386a0ac-7cdb-4508-e099-b23fdfb15f37"
      },
      "execution_count": 7,
      "outputs": [
        {
          "output_type": "display_data",
          "data": {
            "text/plain": [
              "<Figure size 640x480 with 1 Axes>"
            ],
            "image/png": "[encoded data removed]"
          },
          "metadata": {}
        }
      ]
    },
    {
      "cell_type": "markdown",
      "source": [
        "# Test model with new image"
      ],
      "metadata": {
        "id": "PSL9_82TgbuT"
      }
    },
    {
      "cell_type": "code",
      "source": [
        "from tensorflow.keras.preprocessing import image\n",
        "import numpy as np\n",
        "from google.colab import drive\n",
        "\n",
        "# Mount Google Drive\n",
        "drive.mount('/content/drive')\n"
      ],
      "metadata": {
        "colab": {
          "base_uri": "https://localhost:8080/"
        },
        "id": "hEXFZZ1SgeZl",
        "outputId": "c8f20d37-f744-4bea-bad8-4bba3a775b86"
      },
      "execution_count": 9,
      "outputs": [
        {
          "output_type": "stream",
          "name": "stdout",
          "text": [
            "Mounted at /content/drive\n"
          ]
        }
      ]
    },
    {
      "cell_type": "code",
      "source": [
        "# Load the new image from Google drive\n",
        "img_path = 'IMAGE PATH GOES HERE'\n",
        "img = image.load_img(img_path, target_size=(32, 32))\n",
        "img_array = image.img_to_array(img)\n",
        "img_array = np.expand_dims(img_array, axis=0) / 255.0  # Normalize pixel values\n",
        "\n",
        "# Optionally, visualize the image\n",
        "plt.imshow(img)\n",
        "plt.show()\n"
      ],
      "metadata": {
        "colab": {
          "base_uri": "https://localhost:8080/",
          "height": 430
        },
        "id": "ELVuKa9eghBF",
        "outputId": "54aa6b1d-783e-422e-8e17-5b633cc1d5fa"
      },
      "execution_count": 22,
      "outputs": [
        {
          "output_type": "display_data",
          "data": {
            "text/plain": [
              "<Figure size 640x480 with 1 Axes>"
            ],
            "image/png": "[encoded data removed]"
          },
          "metadata": {}
        }
      ]
    },
    {
      "cell_type": "markdown",
      "source": [
        "## Make predictions"
      ],
      "metadata": {
        "id": "_gkt0EUegmOZ"
      }
    },
    {
      "cell_type": "code",
      "source": [
        "# Make predictions with softmax activation\n",
        "predictions = model.predict(img_array)\n",
        "probabilities = tf.nn.softmax(predictions[0]).numpy()"
      ],
      "metadata": {
        "colab": {
          "base_uri": "https://localhost:8080/"
        },
        "id": "xUzlCdfGgjEB",
        "outputId": "6a2db353-731f-4631-c4bf-1668caa4b514"
      },
      "execution_count": 23,
      "outputs": [
        {
          "output_type": "stream",
          "name": "stdout",
          "text": [
            "1/1 [==============================] - 0s 23ms/step\n"
          ]
        }
      ]
    },
    {
      "cell_type": "code",
      "source": [
        "# Get the predicted class and confidence\n",
        "class_index = np.argmax(probabilities)\n",
        "confidence = probabilities[class_index]"
      ],
      "metadata": {
        "id": "biHXcHCPhufi"
      },
      "execution_count": 24,
      "outputs": []
    },
    {
      "cell_type": "markdown",
      "source": [
        "## Interpret predictions"
      ],
      "metadata": {
        "id": "W3lmEGMLgpiJ"
      }
    },
    {
      "cell_type": "code",
      "source": [
        "# Interpret the predictions\n",
        "cifar_10_classes = ['airplane', 'automobile', 'bird', 'cat', 'deer', 'dog', 'frog', 'horse', 'ship', 'truck']\n",
        "predicted_class = cifar_10_classes[class_index]\n",
        "\n",
        "print(f'The model predicts that the image belongs to the class: {predicted_class}')\n",
        "print(f'Confidence: {confidence:.2f}')"
      ],
      "metadata": {
        "colab": {
          "base_uri": "https://localhost:8080/"
        },
        "id": "AM9xQk80gsw8",
        "outputId": "f7f1ef5b-d62c-42da-dde4-a21cec3a0a4a"
      },
      "execution_count": 25,
      "outputs": [
        {
          "output_type": "stream",
          "name": "stdout",
          "text": [
            "The model predicts that the image belongs to the class: dog\n",
            "Confidence: 0.72\n"
          ]
        }
      ]
    }
  ]
}